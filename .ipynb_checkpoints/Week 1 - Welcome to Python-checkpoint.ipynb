{
 "cells": [
  {
   "cell_type": "markdown",
   "metadata": {},
   "source": [
    "<img src=\"Python-logo-notext.png\" alt=\"python logo\" width=\"182\">\n",
    "\n",
    "\n",
    "\n",
    "\n",
    "# Welcome To Python\n",
    "\n",
    "\n",
    "Python is an opensource, interpreted programming language. It is very popular for a variety of applications (find reference). Python has a huge range of free support resources and packages available online. A brief list is included below.\n",
    "\n",
    "One of the areas in which python has showpread use is for the analysis of data and simple mathematical modelling (find reference).Through the use of modules, which are freely available online, python can become an extremely powerful tool for the manipulation and representation of data, such as that which we will be investigating throughout the course of the semester in this class.\n",
    "\n",
    "It is our hope that you will learn to love python, as we do, and take it with you in to your future lives, both personal and professional"
   ]
  },
  {
   "cell_type": "markdown",
   "metadata": {},
   "source": [
    "# Installing Python\n",
    "\n",
    "Python can be installed in a number of ways, a few of which are detailed below in the links at the bottom of this document. For the purpose of this course we suggest that you use winpython, a simple, portable python install, that comes with all the modules we will need preinstalled. you can download the package from this link: \n",
    "\n",
    "https://sourceforge.net/projects/winpython/files/WinPython_3.5/3.5.1.3/\n",
    "\n",
    "And run the setup, which will extract everything to wherever you tell it to"
   ]
  },
  {
   "cell_type": "markdown",
   "metadata": {},
   "source": [
    "# Editors for Python\n",
    "\n",
    "There are many freely available editors with built in features for working with python, or IDEs, and the question of which is the best is one of hot dispute in the python community. For the purpose of this course we suggest you use spyder, a relatively easy to use IDE which comes prepackaged with winpython, but we invite you to explore other options, both those included with winpython and others.\n",
    "\n",
    "One you've run the setup and extracted the contents to your desired directory, go into the directory and open spyder. You'll notice that on the right there is a section called the ipython console. This will be useful for running single commands or executing functions, which we'll learn about later. On the left you'll see the script editor, this is for writing scripts, or anything that takes your fancy.\n",
    "\n",
    "For starters, try typing in to the ipython console \n",
    "\n"
   ]
  },
  {
   "cell_type": "code",
   "execution_count": 2,
   "metadata": {
    "collapsed": false
   },
   "outputs": [],
   "source": [
    "import this"
   ]
  },
  {
   "cell_type": "markdown",
   "metadata": {
    "collapsed": true
   },
   "source": [
    "# Modules\n",
    "\n",
    "Python uses modules to fulfill a range of functions. There are, for example, a range of modules available for the manipulation of and display of data. In this course we will be making use of some of these. One that we will be using alot in this course is numpy. Numpy is a package for manipulating arrays, a little bit like matlab. To import numpy try typing into the ipython console\n",
    "\n"
   ]
  },
  {
   "cell_type": "code",
   "execution_count": 4,
   "metadata": {
    "collapsed": false
   },
   "outputs": [],
   "source": [
    "import numpy as np"
   ]
  }
 ],
 "metadata": {
  "kernelspec": {
   "display_name": "Python 3",
   "language": "python",
   "name": "python3"
  },
  "language_info": {
   "codemirror_mode": {
    "name": "ipython",
    "version": 3
   },
   "file_extension": ".py",
   "mimetype": "text/x-python",
   "name": "python",
   "nbconvert_exporter": "python",
   "pygments_lexer": "ipython3",
   "version": "3.4.3"
  },
  "latex_envs": {
   "bibliofile": "biblio.bib",
   "cite_by": "apalike",
   "current_citInitial": 1,
   "eqLabelWithNumbers": true,
   "eqNumInitial": 0
  }
 },
 "nbformat": 4,
 "nbformat_minor": 0
}
