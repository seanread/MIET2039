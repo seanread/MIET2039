{
 "cells": [
  {
   "cell_type": "markdown",
   "metadata": {},
   "source": [
    "<img src=\"img/Python-logo-notext.svg\" alt=\"python logo\" width=\"182\">\n",
    "\n",
    "\n",
    "\n",
    "\n",
    "# Welcome To Python\n",
    "\n",
    "\n",
    "Python is an opensource, interpreted programming language. It is very popular for a variety of applications. Python has a huge range of free support resources and packages available online.\n",
    "\n",
    "One of the areas in which python has showpread use is for the analysis of data and simple mathematical modelling.Through the use of modules, which are freely available online, python can become an extremely powerful tool for the manipulation and representation of data, such as that which we will be investigating throughout the course of the semester in this class.\n",
    "\n",
    "It is our hope that you will learn to love python, as we do, and take it with you in to your future lives, both personal and professional"
   ]
  },
  {
   "cell_type": "markdown",
   "metadata": {},
   "source": [
    "# Installing Python\n",
    "\n",
    "Python can be installed in a number of ways, a few of which are detailed below in the links at the bottom of this document. For the purpose of this course we suggest that you use winpython, a simple, portable python install, that comes with all the modules we will need preinstalled. you can download the package from this link: \n",
    "\n",
    "https://sourceforge.net/projects/winpython/files/WinPython_3.5/3.5.1.3/\n",
    "\n",
    "And run the setup, which will extract everything to wherever you tell it to"
   ]
  },
  {
   "cell_type": "markdown",
   "metadata": {},
   "source": [
    "# Editors for Python\n",
    "\n",
    "There are many freely available editors with built in features for working with python, or IDEs, and the question of which is the best is one of hot dispute in the python community. For the purpose of this course we suggest you use spyder, a relatively easy to use IDE which comes prepackaged with winpython, but we invite you to explore other options, both those included with winpython and others.\n",
    "\n",
    "One you've run the setup and extracted the contents to your desired directory, go into the directory and open spyder. You'll notice that on the right there is a section called the ipython console. This will be useful for running single commands or executing functions, which we'll learn about later. On the left you'll see the script editor, this is for writing scripts, or anything that takes your fancy.\n",
    "\n",
    "For starters, try typing in to the ipython console \n",
    "\n"
   ]
  },
  {
   "cell_type": "code",
   "execution_count": 4,
   "metadata": {
    "collapsed": false
   },
   "outputs": [],
   "source": [
    "import this;"
   ]
  },
  {
   "cell_type": "markdown",
   "metadata": {},
   "source": [
    "but without the semicolon, and pressing enter"
   ]
  },
  {
   "cell_type": "markdown",
   "metadata": {},
   "source": [
    "## Arithmetic\n",
    "\n",
    "Basic arithmetic operations in python function as expected in general, a list of basic operators is below (source: http://www.tutorialspoint.com/python/python_basic_operators.htm):\n",
    "\n",
    "<table class=\"table table-bordered\">\n",
    "<tbody><tr>\n",
    "<th style=\"width:10%\">Operator</th>\n",
    "<th style=\"width:45%\">Description</th>\n",
    "<th>Example</th>\n",
    "</tr>\n",
    "<tr>\n",
    "<td>+ Addition</td>\n",
    "<td>Adds values on either side of the operator.</td>\n",
    "<td>a + b = 30</td>\n",
    "</tr>\n",
    "<tr>\n",
    "<td>- Subtraction</td>\n",
    "<td>Subtracts right hand operand from left hand operand.</td>\n",
    "<td>a – b = -10</td>\n",
    "</tr>\n",
    "<tr>\n",
    "<td>\\* Multiplication</td>\n",
    "<td>Multiplies values on either side of the operator</td>\n",
    "<td>a \\* b = 200</td>\n",
    "</tr>\n",
    "<tr>\n",
    "<td>/ Division</td>\n",
    "<td>Divides left hand operand by right hand operand</td>\n",
    "<td>b / a = 2</td>\n",
    "</tr>\n",
    "<tr>\n",
    "<td>% Modulus</td>\n",
    "<td>Divides left hand operand by right hand operand and returns remainder</td>\n",
    "<td>b % a = 0</td>\n",
    "</tr>\n",
    "<tr>\n",
    "<td> \\*\\* Exponent</td>\n",
    "<td>Performs exponential (power) calculation on operators</td>\n",
    "<td>a\\*\\*b =10 to the power 20</td>\n",
    "</tr>\n",
    "<tr>\n",
    "<td>//</td>\n",
    "<td>Floor Division - The division of operands where the result is the quotient in which the digits after the decimal point are removed. But if one of the operands is negative, the result is floored, i.e., rounded away from zero (towards negative infinity):</td>\n",
    "<td>9//2 = 4 and 9.0//2.0 = 4.0, -11//3 = -4, -11.0//3 = -4.0</td>\n",
    "</tr>\n",
    "</tbody></table>\n",
    "\n",
    "Try some of these in the ipython window of spyder, for example:"
   ]
  },
  {
   "cell_type": "code",
   "execution_count": 1,
   "metadata": {
    "collapsed": false
   },
   "outputs": [
    {
     "data": {
      "text/plain": [
       "24"
      ]
     },
     "execution_count": 1,
     "metadata": {},
     "output_type": "execute_result"
    }
   ],
   "source": [
    "4 * 6"
   ]
  },
  {
   "cell_type": "markdown",
   "metadata": {},
   "source": [
    "## Defining Variables\n",
    "\n",
    "In python variables can be defined very easily with =, similar to matlab. Try the following:"
   ]
  },
  {
   "cell_type": "code",
   "execution_count": 2,
   "metadata": {
    "collapsed": false
   },
   "outputs": [
    {
     "data": {
      "text/plain": [
       "24"
      ]
     },
     "execution_count": 2,
     "metadata": {},
     "output_type": "execute_result"
    }
   ],
   "source": [
    "a = 4\n",
    "    \n",
    "b = 6\n",
    "\n",
    "a*b"
   ]
  },
  {
   "cell_type": "markdown",
   "metadata": {
    "collapsed": true
   },
   "source": [
    "# Heat transfer function\n",
    "\n",
    "We're now going to use python and numpy to solve a simple heat transfer function using the equation that you learned in class this week,\n"
   ]
  },
  {
   "cell_type": "markdown",
   "metadata": {},
   "source": [
    "<img src=\"img/refrigerationCycle.png\", width=301, height=250, align=\"left\" />"
   ]
  },
  {
   "cell_type": "markdown",
   "metadata": {},
   "source": [
    "Let's consider the thermal resistance network problem in Q1.3 in Problem Set 01. Of course you would have done this problem at home already as homework.... As a recap the question is\n",
    "\n",
    "The wall of a cold room is composed of three layers:  The outside layer is brick 0.21 m thick, the middle layer is cork 0.10 m thick, and the inside layer is cement 0.050 m thick.  The wall is 2 m high and 5 m long.  Thermal conductivities are:  brick 0.70; cork 0.44; cement 1.15 W/(m.K).  The temperature of the outside air is 27°C and the inside air is -23°C.  The convective film coefficients are 48 W/(m².K) for the outside air to brick and 17 W/(m².K) for the inside air to cement.  Determine:\n",
    "\n",
    "a)\tthe thermal resistance of the wall including the air boundary layers\n",
    "\n",
    "b)\tthe overall heat transfer coefficient\n",
    "\n",
    "c)\tthe rate of heat flow under steady conditions \n",
    "\n",
    "d)\tthe temperature on the internal wall surface.\n",
    "\n",
    "For this question, we've given you the code below. Try typing it into the spyder interface and running it"
   ]
  },
  {
   "cell_type": "code",
   "execution_count": 9,
   "metadata": {
    "collapsed": true
   },
   "outputs": [],
   "source": [
    "# hash will allow comments on the line\n",
    "\n",
    "# let's assign the material properties to a variable\n",
    "k_brick =  0.70; L_brick = 0.21\n",
    "k_cork = 0.44; L_cork = 0.10\n",
    "k_cement = 1.15; L_cement = 0.05\n",
    "h_in = 17\n",
    "h_out = 48\n",
    "\n",
    "# why do we sometimes use a semi-colon?\n",
    "Area = 10\n",
    "\n",
    "R_brick = L_brick / (k_brick * Area)\n",
    "R_cork = L_cork / (k_cork * Area)\n",
    "R_cement = L_cement / (k_cement * Area)\n",
    "R_in = 1/(h_in*Area)\n",
    "R_out = 1/(h_out*Area)"
   ]
  },
  {
   "cell_type": "code",
   "execution_count": 10,
   "metadata": {
    "collapsed": false
   },
   "outputs": [
    {
     "name": "stdout",
     "output_type": "stream",
     "text": [
      "0.0058823529411764705 0.0020833333333333333 0.004347826086956522 0.022727272727272728 0.03\n"
     ]
    }
   ],
   "source": [
    "print(R_in, R_out, R_cement, R_cork, R_brick)"
   ]
  },
  {
   "cell_type": "markdown",
   "metadata": {},
   "source": [
    "## Functions\n",
    "\n",
    "Functions allow us to define a certain piece of syntax, or code, which we can then call at will with different variables. Functions can save us heaps of time! below is an example of a function"
   ]
  },
  {
   "cell_type": "code",
   "execution_count": 11,
   "metadata": {
    "collapsed": false
   },
   "outputs": [
    {
     "name": "stdout",
     "output_type": "stream",
     "text": [
      "my cat eats cat food\n"
     ]
    }
   ],
   "source": [
    "def eatsfood(thing):\n",
    "    print(\"my \" + thing + \" eats \" + thing + \" food\")\n",
    "    \n",
    "eatsfood('cat')"
   ]
  },
  {
   "cell_type": "markdown",
   "metadata": {},
   "source": [
    "Note that indentation of the lines within the function is essential for it to work\n",
    "\n",
    "try using functions to speed up the solution to question 1.3 above"
   ]
  }
 ],
 "metadata": {
  "kernelspec": {
   "display_name": "Python 3",
   "language": "python",
   "name": "python3"
  },
  "language_info": {
   "codemirror_mode": {
    "name": "ipython",
    "version": 3
   },
   "file_extension": ".py",
   "mimetype": "text/x-python",
   "name": "python",
   "nbconvert_exporter": "python",
   "pygments_lexer": "ipython3",
   "version": "3.4.3"
  },
  "latex_envs": {
   "bibliofile": "biblio.bib",
   "cite_by": "apalike",
   "current_citInitial": 1,
   "eqLabelWithNumbers": true,
   "eqNumInitial": 0
  }
 },
 "nbformat": 4,
 "nbformat_minor": 0
}
