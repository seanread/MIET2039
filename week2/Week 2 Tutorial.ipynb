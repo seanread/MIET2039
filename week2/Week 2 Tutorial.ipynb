{
 "cells": [
  {
   "cell_type": "markdown",
   "metadata": {},
   "source": [
    "## Week 2: Refrigeration\n",
    "\n",
    "Welcome to week two of our python heat transfer tutorials. This week we're going to be looking at another one of your homework questions from last week; looking at refrigeration cycles.\n",
    "\n",
    "![Alt text](ts.png)\n",
    "\n",
    "1.10. A refrigerator uses refrigerant-134a as the working fluid and operates on an ideal vapor-compression refrigeration cycle between 0.14 and 0.8 MPa. If the mass flow rate of the refrigerant is 0.05 kg/s, determine:\n",
    "(a) the rate of heat removal from the refrigerated space and the power input to the compressor, \n",
    "(b) the rate of heat rejection to the environment, and \n",
    "(c) the COP of the refrigerator.\n",
    "\n",
    "The first thing that we're going to do is import numpy, a handy matrix based python class, kind of like matlab. If you're interested, you can read more about numpy [here](http://www.numpy.org/)"
   ]
  },
  {
   "cell_type": "code",
   "execution_count": 2,
   "metadata": {
    "collapsed": true
   },
   "outputs": [],
   "source": [
    "import numpy as np"
   ]
  },
  {
   "cell_type": "markdown",
   "metadata": {},
   "source": [
    "Now we're going to use numpy to import the thermal properties table from the csv file you downloaded with this tutorial, so that we can manipulate it and make it do our bidding"
   ]
  },
  {
   "cell_type": "code",
   "execution_count": 18,
   "metadata": {
    "collapsed": false
   },
   "outputs": [],
   "source": [
    "fridgetab = np.genfromtxt('thermoproperties.csv', dtype=None, delimiter = \",\")"
   ]
  },
  {
   "cell_type": "markdown",
   "metadata": {},
   "source": [
    "This imports the data as an numpy array. Numpy arrays are useful in this particular instance because we can call the sections of the data that we are interested in. Note that in numpy arrays indexing starts from 0"
   ]
  },
  {
   "cell_type": "code",
   "execution_count": 19,
   "metadata": {
    "collapsed": false
   },
   "outputs": [
    {
     "data": {
      "text/plain": [
       "array([[b'R134a - TetraFlouroEthane Saturation Properties - Pressure Table',\n",
       "        b'', b'', b'', b'', b'', b'', b'', b'', b''],\n",
       "       [b'Pressure', b'Temp', b'volume (m^3/kg)', b'', b'enthalpy (kJ/kg)',\n",
       "        b'', b'', b'entropy (kJ/kg.K)', b'', b''],\n",
       "       [b'kPa', b'\\xc2\\xb0C', b'vf', b'vg', b'hf', b'hfg', b'hg', b'sf',\n",
       "        b'sfg', b'sg']], \n",
       "      dtype='|S64')"
      ]
     },
     "execution_count": 19,
     "metadata": {},
     "output_type": "execute_result"
    }
   ],
   "source": [
    "fridgetab[0:3, :]"
   ]
  },
  {
   "cell_type": "markdown",
   "metadata": {},
   "source": [
    "Now we can call the data necessary for our question. So We know that we need the data for 0.14 and 0.8 MPa, how do we call it? we need to figure out where it sits in our numpy array. We know that the data in this case starts from the fifth row at 80 Pa:"
   ]
  },
  {
   "cell_type": "code",
   "execution_count": 20,
   "metadata": {
    "collapsed": false
   },
   "outputs": [
    {
     "data": {
      "text/plain": [
       "array([b'80', b'-31.1', b'0.0007185', b'0.2376', b'11.3', b'220.2',\n",
       "       b'231.5', b'0.0472', b'0.91', b'0.9572'], \n",
       "      dtype='|S64')"
      ]
     },
     "execution_count": 20,
     "metadata": {},
     "output_type": "execute_result"
    }
   ],
   "source": [
    "fridgetab[4,:]"
   ]
  },
  {
   "cell_type": "markdown",
   "metadata": {},
   "source": [
    "and increases in increments of 20 Pa:"
   ]
  },
  {
   "cell_type": "code",
   "execution_count": 21,
   "metadata": {
    "collapsed": false
   },
   "outputs": [
    {
     "data": {
      "text/plain": [
       "array([b'100', b'-26.4', b'0.0007259', b'0.1926', b'17.3', b'217.2',\n",
       "       b'234.5', b'0.072', b'0.8799', b'0.9519'], \n",
       "      dtype='|S64')"
      ]
     },
     "execution_count": 21,
     "metadata": {},
     "output_type": "execute_result"
    }
   ],
   "source": [
    "fridgetab[5,:]"
   ]
  },
  {
   "cell_type": "markdown",
   "metadata": {},
   "source": [
    "So we want $h_{1-4}$ and $s_{1-2}$:\n",
    "\n",
    "$h_1 = h_{g@0.14MPa}$\n",
    "\n",
    "$s_1 = s_{g@0.14MPa}$\n",
    "\n",
    "$h_2 = h_{g@0.8MPa}$\n",
    "\n",
    "$s_2 = s_1$\n",
    "\n",
    "$h_3 = h_{f@0.8MPa}$\n",
    "\n",
    "$h_4 \\cong h_3$ (why $\\cong$ and not = ?)"
   ]
  },
  {
   "cell_type": "markdown",
   "metadata": {},
   "source": [
    "So we need the data for 0.8 and 0.14 MPa respectively, working out that their indices will correspond to $i = \\frac{Pr-0.08}{0.02} + 3$ for $Pr \\leq 360$, $i = \\frac{Pr-0.4}{0.1} + 21$ for $400 \\leq Pr \\leq 1000$ and $i = \\frac{Pr-1}{0.2} + 27$  for $1000 \\leq Pr$"
   ]
  },
  {
   "cell_type": "code",
   "execution_count": 51,
   "metadata": {
    "collapsed": false
   },
   "outputs": [
    {
     "data": {
      "text/plain": [
       "array([b'140', b'-18.8', b'0.0007383', b'0.1402', b'27.1', b'212.1',\n",
       "       b'239.2', b'0.111', b'0.8337', b'0.9446'], \n",
       "      dtype='|S64')"
      ]
     },
     "execution_count": 51,
     "metadata": {},
     "output_type": "execute_result"
    }
   ],
   "source": [
    "fridgetab[round((0.14 - 0.08)/0.02)+4, :]"
   ]
  },
  {
   "cell_type": "markdown",
   "metadata": {},
   "source": [
    "We can check which collumn has what data from the second and third row:"
   ]
  },
  {
   "cell_type": "code",
   "execution_count": 56,
   "metadata": {
    "collapsed": false,
    "scrolled": true
   },
   "outputs": [
    {
     "data": {
      "text/plain": [
       "array([[b'Pressure', b'Temp', b'volume (m^3/kg)', b'', b'enthalpy (kJ/kg)',\n",
       "        b'', b'', b'entropy (kJ/kg.K)', b'', b''],\n",
       "       [b'kPa', b'\\xc2\\xb0C', b'vf', b'vg', b'hf', b'hfg', b'hg', b'sf',\n",
       "        b'sfg', b'sg']], \n",
       "      dtype='|S64')"
      ]
     },
     "execution_count": 56,
     "metadata": {},
     "output_type": "execute_result"
    }
   ],
   "source": [
    "fridgetab[1:3, :]"
   ]
  },
  {
   "cell_type": "markdown",
   "metadata": {},
   "source": [
    "The command np.where can be used to find the index for the specific elements we are trying to call, which can then be defined as variables:"
   ]
  },
  {
   "cell_type": "code",
   "execution_count": 57,
   "metadata": {
    "collapsed": true
   },
   "outputs": [],
   "source": [
    "hg = np.where(fridgetab==b'hg')[1][0]\n",
    "hf = np.where(fridgetab==b'hf')[1][0]\n",
    "sg = np.where(fridgetab==b'sg')[1][0]"
   ]
  },
  {
   "cell_type": "markdown",
   "metadata": {},
   "source": [
    "Let's define a function that calls the data for a given Pressure, we can do this using if loops to call the appropriate algorithm for a given pressure. You should remember if loops from matlab. Below is an example of if loop syntax in python (Remember, indentation matters!) "
   ]
  },
  {
   "cell_type": "code",
   "execution_count": 58,
   "metadata": {
    "collapsed": false
   },
   "outputs": [
    {
     "name": "stdout",
     "output_type": "stream",
     "text": [
      "ribbit\n"
     ]
    }
   ],
   "source": [
    "a = 'frog'\n",
    "b = 'frog'\n",
    "if a == b:\n",
    "    print('ribbit')"
   ]
  },
  {
   "cell_type": "code",
   "execution_count": null,
   "metadata": {
    "collapsed": true
   },
   "outputs": [],
   "source": []
  },
  {
   "cell_type": "markdown",
   "metadata": {},
   "source": [
    "Coming back to the question at hand\n",
    "\n",
    "(a) the rate of heat removal from the refrigerated space and the power input to the compressor\n",
    "\n",
    "we recall the definition for the rate of heat removal:\n",
    "\n",
    "$$\\dot{Q}_L = \\dot{m}(h_1 - h_4)$$"
   ]
  },
  {
   "cell_type": "code",
   "execution_count": 49,
   "metadata": {
    "collapsed": false
   },
   "outputs": [
    {
     "data": {
      "text/plain": [
       "4"
      ]
     },
     "execution_count": 49,
     "metadata": {},
     "output_type": "execute_result"
    }
   ],
   "source": []
  },
  {
   "cell_type": "code",
   "execution_count": null,
   "metadata": {
    "collapsed": true
   },
   "outputs": [],
   "source": []
  }
 ],
 "metadata": {
  "kernelspec": {
   "display_name": "Python 3",
   "language": "python",
   "name": "python3"
  },
  "language_info": {
   "codemirror_mode": {
    "name": "ipython",
    "version": 3
   },
   "file_extension": ".py",
   "mimetype": "text/x-python",
   "name": "python",
   "nbconvert_exporter": "python",
   "pygments_lexer": "ipython3",
   "version": "3.4.3"
  },
  "latex_envs": {
   "bibliofile": "biblio.bib",
   "cite_by": "apalike",
   "current_citInitial": 1,
   "eqLabelWithNumbers": true,
   "eqNumInitial": 0
  }
 },
 "nbformat": 4,
 "nbformat_minor": 0
}
