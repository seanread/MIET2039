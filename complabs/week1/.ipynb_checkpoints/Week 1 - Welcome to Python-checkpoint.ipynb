{
 "cells": [
  {
   "cell_type": "markdown",
   "metadata": {},
   "source": [
    "<img src=\"img/Python-logo-notext.svg\" alt=\"python logo\" width=\"182\">\n",
    "\n",
    "\n",
    "\n",
    "\n",
    "## Welcome to our python based tutorials for MIET2039\n",
    "\n",
    "This week we're going to be looking at thermal resistance networks\n",
    "\n",
    "Firstly start by opening the ipython notebook, which you'll find in the place where you installed winpython"
   ]
  },
  {
   "cell_type": "markdown",
   "metadata": {},
   "source": [
    "<img src=\"img/refrigerationCycle.png\", width=301, height=250, align=\"center\" />"
   ]
  },
  {
   "cell_type": "markdown",
   "metadata": {},
   "source": [
    "Let's consider the thermal resistance network problem in Q1.3 in Problem Set 01. Of course you would have done this problem at home already as homework.... As a recap the question is\n",
    "\n",
    "The wall of a cold room is composed of three layers:  The outside layer is brick 0.21 m thick, the middle layer is cork 0.10 m thick, and the inside layer is cement 0.050 m thick.  The wall is 2 m high and 5 m long.  Thermal conductivities are:  brick 0.70; cork 0.44; cement 1.15 W/(m.K).  The temperature of the outside air is 27°C and the inside air is -23°C.  The convective film coefficients are 48 W/(m².K) for the outside air to brick and 17 W/(m².K) for the inside air to cement.  Determine:\n",
    "\n",
    "a)\tthe thermal resistance of the wall including the air boundary layers\n",
    "\n",
    "b)\tthe overall heat transfer coefficient\n",
    "\n",
    "c)\tthe rate of heat flow under steady conditions \n",
    "\n",
    "d)\tthe temperature on the internal wall surface."
   ]
  },
  {
   "cell_type": "markdown",
   "metadata": {},
   "source": [
    "Recall that resistance is $ \\frac{L}{K} $\n",
    "\n",
    "Firstly, lets define Variables for $L$ and $K$ for the different materials defined in the problem above. The window below has been left for you to do this"
   ]
  },
  {
   "cell_type": "code",
   "execution_count": 9,
   "metadata": {
    "collapsed": true
   },
   "outputs": [],
   "source": []
  },
  {
   "cell_type": "markdown",
   "metadata": {
    "collapsed": false
   },
   "source": [
    "Now try Defining variables for the resistance of each of these materials"
   ]
  },
  {
   "cell_type": "markdown",
   "metadata": {},
   "source": [
    "## Functions\n",
    "\n",
    "Functions allow us to define a certain piece of syntax, or code, which we can then call at will with different variables. Functions can save us heaps of time! below is an example of a function"
   ]
  },
  {
   "cell_type": "code",
   "execution_count": 4,
   "metadata": {
    "collapsed": false
   },
   "outputs": [],
   "source": [
    "def eatsfood(thing):\n",
    "\n",
    "    print(\"my \" + thing + \" eats \" + thing + \" food\")\n",
    "    \n",
    "def add(y, x):\n",
    "    print(y+x)"
   ]
  },
  {
   "cell_type": "markdown",
   "metadata": {},
   "source": [
    "A Function is then called by its name and variables in brackets, as shown below: "
   ]
  },
  {
   "cell_type": "code",
   "execution_count": 5,
   "metadata": {
    "collapsed": false
   },
   "outputs": [
    {
     "name": "stdout",
     "output_type": "stream",
     "text": [
      "my cat eats cat food\n"
     ]
    }
   ],
   "source": [
    "eatsfood('cat')"
   ]
  },
  {
   "cell_type": "code",
   "execution_count": 6,
   "metadata": {
    "collapsed": false
   },
   "outputs": [
    {
     "name": "stdout",
     "output_type": "stream",
     "text": [
      "2\n"
     ]
    }
   ],
   "source": [
    "add(1, 1)"
   ]
  },
  {
   "cell_type": "markdown",
   "metadata": {},
   "source": [
    "Note that indentation of the lines within the function is essential for it to work\n",
    "\n",
    "Try defining a function for the thermal resistance as a function of $L$ and $K$ below"
   ]
  },
  {
   "cell_type": "code",
   "execution_count": null,
   "metadata": {
    "collapsed": true
   },
   "outputs": [],
   "source": []
  }
 ],
 "metadata": {
  "kernelspec": {
   "display_name": "Python 3",
   "language": "python",
   "name": "python3"
  },
  "language_info": {
   "codemirror_mode": {
    "name": "ipython",
    "version": 3
   },
   "file_extension": ".py",
   "mimetype": "text/x-python",
   "name": "python",
   "nbconvert_exporter": "python",
   "pygments_lexer": "ipython3",
   "version": "3.4.3"
  },
  "latex_envs": {
   "bibliofile": "biblio.bib",
   "cite_by": "apalike",
   "current_citInitial": 1,
   "eqLabelWithNumbers": true,
   "eqNumInitial": 0
  }
 },
 "nbformat": 4,
 "nbformat_minor": 0
}
