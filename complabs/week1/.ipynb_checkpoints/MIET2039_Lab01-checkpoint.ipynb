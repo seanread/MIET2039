{
 "cells": [
  {
   "cell_type": "markdown",
   "metadata": {},
   "source": [
    "Lab 01\n",
    "\n",
    "Welcome to Applied Heat and Mass Transfer computer labs where we will learn to automate a lot of processes to help solve many engineering problems. The choice of Python as the computer language to use was due to its accessible tool for you to continue to use after you graduate. I hope by that this course will enrich your learning and provide you with a new set of skills that will help you accelerate a lot of your work processes.\n",
    "\n",
    "Let's first see how to use Python as a calculator\n",
    "\n",
    "Let's see where you have placed your files in its directory:\n",
    "type pwd into a cell and this will 'print working directory'"
   ]
  },
  {
   "cell_type": "code",
   "execution_count": 1,
   "metadata": {
    "collapsed": false
   },
   "outputs": [
    {
     "data": {
      "text/plain": [
       "'/home/sean/gdrive/Courses/RMIT/Heatandvapour/week1'"
      ]
     },
     "execution_count": 1,
     "metadata": {},
     "output_type": "execute_result"
    }
   ],
   "source": [
    "pwd"
   ]
  },
  {
   "cell_type": "markdown",
   "metadata": {},
   "source": [
    "<img src=\"img/refrigerationCycle.png\", width=300, height=250, align=\"left\" />"
   ]
  },
  {
   "cell_type": "markdown",
   "metadata": {},
   "source": [
    "Let's consider the thermal resistance network problem in Q1.3 in Problem Set 01. Of course you would have done this problem at home already as homework.... As a recap the question is\n",
    "\n",
    "The wall of a cold room is composed of three layers:  The outside layer is brick 0.21 m thick, the middle layer is cork 0.10 m thick, and the inside layer is cement 0.050 m thick.  The wall is 2 m high and 5 m long.  Thermal conductivities are:  brick 0.70; cork 0.44; cement 1.15 W/(m.K).  The temperature of the outside air is 27°C and the inside air is -23°C.  The convective film coefficients are 48 W/(m².K) for the outside air to brick and 17 W/(m².K) for the inside air to cement.  Determine:\n",
    "a)\tthe thermal resistance of the wall including the air boundary layers\n",
    "b)\tthe overall heat transfer coefficient\n",
    "c)\tthe rate of heat flow under steady conditions \n",
    "d)\tthe temperature on the internal wall surface."
   ]
  },
  {
   "cell_type": "code",
   "execution_count": 8,
   "metadata": {
    "collapsed": false
   },
   "outputs": [],
   "source": [
    "# hash will allow comments on the line\n",
    "\n",
    "# let's assign the material properties to a variable\n",
    "k_brick =  0.70; L_brick = 0.21\n",
    "k_cork = 0.44; L_cork = 0.10\n",
    "k_cement = 1.15; L_cement = 0.05\n",
    "h_in = 17\n",
    "h_out = 48\n",
    "\n",
    "# why do we sometimes use a semi-colon?\n",
    "Area = 10\n",
    "\n",
    "R_brick = L_brick / (k_brick * Area)\n",
    "R_cork = L_cork / (k_cork * Area)\n",
    "R_cement = L_cement / (k_cement * Area)\n",
    "R_in = 1/(h_in*Area)\n",
    "R_out = 1/(h_out*Area)"
   ]
  },
  {
   "cell_type": "code",
   "execution_count": 10,
   "metadata": {
    "collapsed": false
   },
   "outputs": [
    {
     "name": "stdout",
     "output_type": "stream",
     "text": [
      "0.0058823529411764705 0.0020833333333333333 0.004347826086956522 0.022727272727272728 0.03\n"
     ]
    }
   ],
   "source": [
    "print(R_in, R_out, R_cement, R_cork, R_brick)"
   ]
  },
  {
   "cell_type": "markdown",
   "metadata": {},
   "source": [
    "Let's use a function def to simplify the task of typing repeated equations"
   ]
  },
  {
   "cell_type": "code",
   "execution_count": 11,
   "metadata": {
    "collapsed": false
   },
   "outputs": [
    {
     "data": {
      "text/plain": [
       "0.03"
      ]
     },
     "execution_count": 11,
     "metadata": {},
     "output_type": "execute_result"
    }
   ],
   "source": [
    "def cond(L,k,A):\n",
    "    R = L/(k*A)\n",
    "    return (R)\n",
    "\n",
    "cond(0.21,0.7,10)\n",
    "# note that when we don't assign the calculation to any variable the value is printed in the Output    "
   ]
  },
  {
   "cell_type": "code",
   "execution_count": 12,
   "metadata": {
    "collapsed": true
   },
   "outputs": [],
   "source": [
    "condT = cond(0.21,0.7,Area)+cond(0.1,0.44,Area)"
   ]
  },
  {
   "cell_type": "markdown",
   "metadata": {},
   "source": [
    "Now type out yourself a function for convection resistance"
   ]
  },
  {
   "cell_type": "code",
   "execution_count": null,
   "metadata": {
    "collapsed": true
   },
   "outputs": [],
   "source": [
    "def conv(h,A):\n",
    "    R = 1/(h*A)\n",
    "    return (R)"
   ]
  },
  {
   "cell_type": "markdown",
   "metadata": {},
   "source": []
  },
  {
   "cell_type": "code",
   "execution_count": 23,
   "metadata": {
    "collapsed": false
   },
   "outputs": [
    {
     "name": "stdout",
     "output_type": "stream",
     "text": [
      "0.06504078508873906\n",
      "1.537496816244822\n",
      "768.748408122411\n"
     ]
    }
   ],
   "source": [
    "def cond(L,k,A):\n",
    "    R = L/(k*A)\n",
    "    return (R)\n",
    "\n",
    "def conv(h,A):\n",
    "    R = 1/(h*A)\n",
    "    return (R)\n",
    "\n",
    "#from outside and move directions in\n",
    "#conduction properties\n",
    "LList = [0.21, 0.10, 0.05]\n",
    "kList = [0.7, 0.44, 1.15]\n",
    "AList = [10,10,10]\n",
    "\n",
    "#convection properties\n",
    "hList = [48,17]\n",
    "AList2 = [10,10]\n",
    "\n",
    "# create empty arrays to store the answers\n",
    "condStore = []\n",
    "convStore = []\n",
    "\n",
    "for i in range(3):\n",
    "    condAns = cond(LList[i], kList[i], AList[i])\n",
    "    condStore.append(condAns)\n",
    "    if i < 2:\n",
    "        convAns = conv(hList[i], AList[i])\n",
    "        convStore.append(convAns)\n",
    "\n",
    "totalR = sum(condStore) + sum(convStore)\n",
    "print(totalR)\n",
    "\n",
    "U = 1/(totalR*10)\n",
    "print(U)\n",
    "\n",
    "Q = U*10*(27-(-23))\n",
    "print(Q)"
   ]
  },
  {
   "cell_type": "code",
   "execution_count": 47,
   "metadata": {
    "collapsed": false
   },
   "outputs": [
    {
     "name": "stdout",
     "output_type": "stream",
     "text": [
      "[ 0.    0.21  0.31  0.36]\n",
      "[ 0.00208333  0.03208333  0.05481061  0.05915843]\n",
      "[ 25.39844082   2.33598857 -15.13556616 -18.47795054]\n"
     ]
    },
    {
     "data": {
      "text/plain": [
       "<matplotlib.text.Text at 0x428ebf0>"
      ]
     },
     "execution_count": 47,
     "metadata": {},
     "output_type": "execute_result"
    },
    {
     "data": {
      "image/png": "[encoded data removed]",
      "text/plain": [
       "<matplotlib.figure.Figure at 0x42c4970>"
      ]
     },
     "metadata": {},
     "output_type": "display_data"
    }
   ],
   "source": [
    "#let's plot\n",
    "#we add this line to plot inline in Notebooks\n",
    "\n",
    "%matplotlib inline \n",
    "\n",
    "import matplotlib.pyplot as plt\n",
    "import numpy as np\n",
    "\n",
    "Tout = 27\n",
    "Tin = -23\n",
    "\n",
    "xDist = np.insert(np.cumsum(LList),0,0)\n",
    "\n",
    "#since Resistance is in series we can use cumulative sum again for the resistances\n",
    "RDist = np.insert(np.cumsum(condStore),0,0) + convStore[0]\n",
    "TDist = Tout - (Q * RDist)\n",
    "\n",
    "print(xDist)\n",
    "print(RCum)\n",
    "print(TDist)\n",
    "\n",
    "plt.plot(xDist, TDist,'o-r', label='Temperature')\n",
    "plt.legend()\n",
    "plt.xlabel('x distance')\n",
    "plt.ylabel('temperature in Celcius')\n",
    "\n",
    "# from itertools import accumulate\n",
    "# list(accumulate(condStore))"
   ]
  },
  {
   "cell_type": "code",
   "execution_count": 19,
   "metadata": {
    "collapsed": false
   },
   "outputs": [
    {
     "data": {
      "text/plain": [
       "0.05707509881422925"
      ]
     },
     "execution_count": 19,
     "metadata": {},
     "output_type": "execute_result"
    }
   ],
   "source": [
    "sum(condStore)"
   ]
  },
  {
   "cell_type": "code",
   "execution_count": 34,
   "metadata": {
    "collapsed": false
   },
   "outputs": [
    {
     "data": {
      "text/plain": [
       "-18"
      ]
     },
     "execution_count": 34,
     "metadata": {},
     "output_type": "execute_result"
    }
   ],
   "source": [
    "27-45\n"
   ]
  },
  {
   "cell_type": "code",
   "execution_count": null,
   "metadata": {
    "collapsed": true
   },
   "outputs": [],
   "source": []
  }
 ],
 "metadata": {
  "kernelspec": {
   "display_name": "Python 3",
   "language": "python",
   "name": "python3"
  },
  "language_info": {
   "codemirror_mode": {
    "name": "ipython",
    "version": 3
   },
   "file_extension": ".py",
   "mimetype": "text/x-python",
   "name": "python",
   "nbconvert_exporter": "python",
   "pygments_lexer": "ipython3",
   "version": "3.4.3"
  },
  "latex_envs": {
   "bibliofile": "biblio.bib",
   "cite_by": "apalike",
   "current_citInitial": 1,
   "eqLabelWithNumbers": true,
   "eqNumInitial": 0
  }
 },
 "nbformat": 4,
 "nbformat_minor": 0
}
