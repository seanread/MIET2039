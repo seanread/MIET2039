{
 "cells": [
  {
   "cell_type": "markdown",
   "metadata": {},
   "source": [
    "## Week 2: Refrigeration\n",
    "\n",
    "Welcome to week two of our python heat transfer tutorials. This week we're going to be looking at another one of your homework questions from last week; looking at refrigeration cycles.\n",
    "\n",
    "![Alt text](ts.png)\n",
    "\n",
    "1.10. A refrigerator uses refrigerant-134a as the working fluid and operates on an ideal vapor-compression refrigeration cycle between 0.14 and 0.8 MPa. If the mass flow rate of the refrigerant is 0.05 kg/s, determine:\n",
    "(a) the rate of heat removal from the refrigerated space and the power input to the compressor, \n",
    "(b) the rate of heat rejection to the environment, and \n",
    "(c) the COP of the refrigerator.\n",
    "\n",
    "The first thing that we're going to do is import numpy, a handy array based python class, kind of like matlab. If you're interested, you can read more about numpy [here](http://www.numpy.org/)"
   ]
  },
  {
   "cell_type": "code",
   "execution_count": 4,
   "metadata": {
    "collapsed": true
   },
   "outputs": [],
   "source": [
    "import numpy as np"
   ]
  },
  {
   "cell_type": "markdown",
   "metadata": {},
   "source": [
    "Now we're going to use numpy to import the thermal properties table from the csv file you downloaded with this tutorial, so that we can manipulate it and make it do our bidding"
   ]
  },
  {
   "cell_type": "code",
   "execution_count": 5,
   "metadata": {
    "collapsed": false
   },
   "outputs": [],
   "source": [
    "fridgetab = np.genfromtxt('thermoproperties.csv', dtype=None, delimiter = \",\")"
   ]
  },
  {
   "cell_type": "markdown",
   "metadata": {},
   "source": [
    "This imports the data as an numpy array. Numpy arrays are useful in this particular instance because we can call the sections of the data that we are interested in. Note that in numpy arrays indexing starts from 0"
   ]
  },
  {
   "cell_type": "code",
   "execution_count": 6,
   "metadata": {
    "collapsed": false
   },
   "outputs": [
    {
     "data": {
      "text/plain": [
       "array([[b'R134a - TetraFlouroEthane Saturation Properties - Pressure Table',\n",
       "        b'', b'', b'', b'', b'', b'', b'', b'', b''],\n",
       "       [b'Pressure', b'Temp', b'volume (m^3/kg)', b'', b'enthalpy (kJ/kg)',\n",
       "        b'', b'', b'entropy (kJ/kg.K)', b'', b''],\n",
       "       [b'kPa', b'\\xc2\\xb0C', b'vf', b'vg', b'hf', b'hfg', b'hg', b'sf',\n",
       "        b'sfg', b'sg']], \n",
       "      dtype='|S64')"
      ]
     },
     "execution_count": 6,
     "metadata": {},
     "output_type": "execute_result"
    }
   ],
   "source": [
    "fridgetab[0:3, :]"
   ]
  },
  {
   "cell_type": "markdown",
   "metadata": {},
   "source": [
    "So now we have imported the table as a numpy array, called 'fridgetab'\n",
    "\n",
    "Now we can call the data necessary for our question. So We know that we need the data for 0.14 and 0.8 MPa, how do we call it? we need to figure out where it sits in our numpy array. We know that the data in this case starts from the fifth row at 60 Pa:"
   ]
  },
  {
   "cell_type": "code",
   "execution_count": 7,
   "metadata": {
    "collapsed": false
   },
   "outputs": [
    {
     "data": {
      "text/plain": [
       "array([b'60', b'-36.9', b'0.0007098', b'0.3112', b'3.9', b'223.9',\n",
       "       b'227.8', b'0.0164', b'0.9481', b'0.9645'], \n",
       "      dtype='|S64')"
      ]
     },
     "execution_count": 7,
     "metadata": {},
     "output_type": "execute_result"
    }
   ],
   "source": [
    "fridgetab[3,:]"
   ]
  },
  {
   "cell_type": "markdown",
   "metadata": {},
   "source": [
    "So we want $h_{1-4}$ and $s_{1-2}$:\n",
    "\n",
    "$h_1 = h_{g@0.14MPa}$\n",
    "\n",
    "$s_1 = s_{g@0.14MPa}$\n",
    "\n",
    "$h_2 = h_{g@0.8MPa}$\n",
    "\n",
    "$s_2 = s_1$\n",
    "\n",
    "$h_3 = h_{f@0.8MPa}$\n",
    "\n",
    "$h_4 \\cong h_3$ (why $\\cong$ and not = ?)"
   ]
  },
  {
   "cell_type": "markdown",
   "metadata": {},
   "source": [
    "So we need the data for 0.8 and 0.14 MPa respectively. From examining the table, we can work out that their indices will correspond to \n",
    "\n",
    "$i = \\frac{P-0.08}{0.02} + 4$ for $P \\leq 0.36  (MPa)$\n",
    "\n",
    "$i = \\frac{P-0.4}{0.1} + 21$ for $0.4 \\leq P \\leq 1$ and \n",
    "\n",
    "$i = \\frac{P-1}{0.2} + 27$  for $1 \\leq P$\n",
    "\n",
    "So, for example for the data at $P = 140 KPa$, we could do:"
   ]
  },
  {
   "cell_type": "code",
   "execution_count": 8,
   "metadata": {
    "collapsed": false
   },
   "outputs": [
    {
     "data": {
      "text/plain": [
       "array([b'140', b'-18.8', b'0.0007383', b'0.1402', b'27.1', b'212.1',\n",
       "       b'239.2', b'0.111', b'0.8337', b'0.9446'], \n",
       "      dtype='|S64')"
      ]
     },
     "execution_count": 8,
     "metadata": {},
     "output_type": "execute_result"
    }
   ],
   "source": [
    "fridgetab[round((0.14 - 0.08)/0.02)+4, :]"
   ]
  },
  {
   "cell_type": "markdown",
   "metadata": {},
   "source": [
    "We can check which collumn contains what data from the second and third row of the table:"
   ]
  },
  {
   "cell_type": "code",
   "execution_count": 9,
   "metadata": {
    "collapsed": false,
    "scrolled": true
   },
   "outputs": [
    {
     "data": {
      "text/plain": [
       "array([[b'Pressure', b'Temp', b'volume (m^3/kg)', b'', b'enthalpy (kJ/kg)',\n",
       "        b'', b'', b'entropy (kJ/kg.K)', b'', b''],\n",
       "       [b'kPa', b'\\xc2\\xb0C', b'vf', b'vg', b'hf', b'hfg', b'hg', b'sf',\n",
       "        b'sfg', b'sg']], \n",
       "      dtype='|S64')"
      ]
     },
     "execution_count": 9,
     "metadata": {},
     "output_type": "execute_result"
    }
   ],
   "source": [
    "fridgetab[1:3, :]"
   ]
  },
  {
   "cell_type": "markdown",
   "metadata": {},
   "source": [
    "So from this we can gather that, for example, the first column is Pressure (from row 1) in Kpa (from row 2)\n",
    "\n",
    "The command np.where can be used to find the index for the specific elements we are trying to call, which can then be defined as variables:"
   ]
  },
  {
   "cell_type": "code",
   "execution_count": 10,
   "metadata": {
    "collapsed": false
   },
   "outputs": [
    {
     "name": "stdout",
     "output_type": "stream",
     "text": [
      "9\n"
     ]
    }
   ],
   "source": [
    "hg = np.where(fridgetab==b'hg')[1][0]\n",
    "hf = np.where(fridgetab==b'hf')[1][0]\n",
    "sg = np.where(fridgetab==b'sg')[1][0]\n",
    "print(sg)"
   ]
  },
  {
   "cell_type": "markdown",
   "metadata": {},
   "source": [
    "Here we dont need to worry about the b'...' formatting of the input for now, it just allows python to match our search with the required location.\n",
    "\n",
    "Let's define a function that calls the data for a given Pressure, we can do this using if loops to call the appropriate algorithm for a given pressure. You should remember if loops from matlab. Below is an example of if loop syntax in python (Remember, indentation matters!) "
   ]
  },
  {
   "cell_type": "code",
   "execution_count": 11,
   "metadata": {
    "collapsed": false
   },
   "outputs": [
    {
     "name": "stdout",
     "output_type": "stream",
     "text": [
      "ribbit\n"
     ]
    }
   ],
   "source": [
    "a = 'frog'\n",
    "b = 'frog'\n",
    "if a == b:\n",
    "    print('ribbit')"
   ]
  },
  {
   "cell_type": "markdown",
   "metadata": {
    "collapsed": true
   },
   "source": [
    "Hint: We can also use boolean operators other than \"==\" in if loops. So here, for example you could try things like:"
   ]
  },
  {
   "cell_type": "code",
   "execution_count": 12,
   "metadata": {
    "collapsed": false
   },
   "outputs": [
    {
     "name": "stdout",
     "output_type": "stream",
     "text": [
      "sheep\n"
     ]
    }
   ],
   "source": [
    "Pa = 120\n",
    "\n",
    "if Pa <= 140:\n",
    "    print(\"sheep\")\n",
    "\n",
    "elif Pa >= 140:\n",
    "    print(\"cats\")"
   ]
  },
  {
   "cell_type": "markdown",
   "metadata": {},
   "source": [
    "So extending on our example above with $140 KPa$:"
   ]
  },
  {
   "cell_type": "code",
   "execution_count": 33,
   "metadata": {
    "collapsed": false
   },
   "outputs": [
    {
     "name": "stdout",
     "output_type": "stream",
     "text": [
      "144.1\n"
     ]
    }
   ],
   "source": [
    "x = 1.8\n",
    "\n",
    "if x < 0.36: # Here we are introducing the thresholds defined above\n",
    "    c1 = 0.08 # These are the variables from above where the thresholds were defined\n",
    "    c2 = 0.02\n",
    "    c3 = 4()\n",
    "elif 0.36 < x and x < 1:\n",
    "    c1 = 0.4\n",
    "    c2 = 0.1\n",
    "    c3 = 19 \n",
    "elif x > 1:\n",
    "    c1 = 1\n",
    "    c2 = 0.2\n",
    "    c3 = 25\n",
    "\n",
    "hg = np.where(fridgetab==b'hg')[1][0] # defining the locations for the values we need\n",
    "hf = np.where(fridgetab==b'hf')[1][0]\n",
    "sg = np.where(fridgetab==b'sg')[1][0]\n",
    "\n",
    "i = round((x-c1)/c2 + c3) # calculating the index based on the above variables\n",
    "print(float(fridgetab[i, hf])) # float() changes the output into an integer, which can then be used for calculations later"
   ]
  },
  {
   "cell_type": "markdown",
   "metadata": {},
   "source": [
    "See if you can change the code above into a function, with input variables of Pressure and desired output:"
   ]
  },
  {
   "cell_type": "code",
   "execution_count": null,
   "metadata": {
    "collapsed": true
   },
   "outputs": [],
   "source": []
  },
  {
   "cell_type": "code",
   "execution_count": 14,
   "metadata": {
    "collapsed": false
   },
   "outputs": [
    {
     "data": {
      "text/plain": [
       "273.9"
      ]
     },
     "execution_count": 14,
     "metadata": {},
     "output_type": "execute_result"
    }
   ],
   "source": [
    "def getindex(thresholds, funk, value, ntier=3):\n",
    "    assert (len(thresholds) == ntier),\"wrong number of thresholds\"  # this line and the line below are just for catching errors in your input\n",
    "    assert (ntier == len(funk)),\"wrong number of functions\"\n",
    "    i = 0\n",
    "    try:\n",
    "        while value > thresholds[i]:\n",
    "            i = i+1\n",
    "    except IndexError:\n",
    "        raise ValueError('your value\\'s off the charts!')\n",
    "    else:\n",
    "        return round(funk[i](value)) + 4\n",
    "\n",
    "def lookuptab(table, index, variable):\n",
    "    return float(table[index][np.where(table==variable.encode('utf-8'))[1][0]])\n",
    "\n",
    "lookuptab(fridgetab, getindex([0.36, 1, 3], \n",
    "                              [lambda x: (x-0.08)/0.02, \n",
    "                               lambda x: (x-0.4)/0.1+15,\n",
    "                               lambda x: (x-1)/0.2 + 21], 1.2), 'hg')\n",
    "\n",
    "\n"
   ]
  },
  {
   "cell_type": "markdown",
   "metadata": {},
   "source": [
    "Coming back to the question at hand\n",
    "\n",
    "(a) the rate of heat removal from the refrigerated space and the power input to the compressor\n",
    "\n",
    "we recall the definition for the rate of heat removal:\n",
    "\n",
    "$$\\dot{Q}_L = \\dot{m}(h_1 - h_4)$$\n",
    "\n",
    "Solving should now be trivial with our new function"
   ]
  },
  {
   "cell_type": "markdown",
   "metadata": {},
   "source": [
    "During the week, try and rewrite the code above using a while loop instead of if loops. You can read more about while loops here"
   ]
  }
 ],
 "metadata": {
  "kernelspec": {
   "display_name": "Python 3",
   "language": "python",
   "name": "python3"
  },
  "language_info": {
   "codemirror_mode": {
    "name": "ipython",
    "version": 3
   },
   "file_extension": ".py",
   "mimetype": "text/x-python",
   "name": "python",
   "nbconvert_exporter": "python",
   "pygments_lexer": "ipython3",
   "version": "3.4.3"
  },
  "latex_envs": {
   "bibliofile": "biblio.bib",
   "cite_by": "apalike",
   "current_citInitial": 1,
   "eqLabelWithNumbers": true,
   "eqNumInitial": 0
  }
 },
 "nbformat": 4,
 "nbformat_minor": 0
}
