{
 "cells": [
  {
   "cell_type": "markdown",
   "metadata": {},
   "source": [
    "## Week 4: Heat exchangers"
   ]
  },
  {
   "cell_type": "markdown",
   "metadata": {},
   "source": [
    "Greetings! welcome to week 4 of our python based heat transfer tutorials. This week we are looking at heat exchangers. Coming back to our simple example from last week:"
   ]
  },
  {
   "cell_type": "markdown",
   "metadata": {},
   "source": [
    "![Alt text](tuteq.png)"
   ]
  },
  {
   "cell_type": "markdown",
   "metadata": {},
   "source": [
    "So you'll remember we ended up with quite a group of functions set up for working with this problem, which can get quite messy. We had:\n",
    "\n",
    "- a function for finding the index of the item in the table\n",
    "- a function for calling a specific value for a given index\n",
    "- a function for interpolating values\n",
    "\n",
    "On top of this we had extra code to import the required dataset. Wouldn't it be nice if we could tie all of this together in one cohesive, easy to use package?\n",
    "\n",
    "Luckily for us, Python is what is known as an \"object oriented\" language. Basically what this means is that it enables us to group functions together in a \"class\". Objects can then be identified as a member of that class, thereby gaining access to its functions. A simple example is given below"
   ]
  },
  {
   "cell_type": "code",
   "execution_count": 9,
   "metadata": {
    "collapsed": false
   },
   "outputs": [
    {
     "name": "stdout",
     "output_type": "stream",
     "text": [
      "ducks say quack\n",
      "ducks eat worms\n"
     ]
    }
   ],
   "source": [
    "class ducks():\n",
    "    def __init__(self, food, words):\n",
    "        self.food = food\n",
    "        self.words = words\n",
    "    def speak(self):\n",
    "        print(\"ducks say \" + self.words)\n",
    "    def eat(self):\n",
    "        print(\"ducks eat \" + self.food)\n",
    "        \n",
    "ronald = ducks('worms', 'quack')\n",
    "ronald.speak()\n",
    "ronald.eat()"
   ]
  },
  {
   "cell_type": "markdown",
   "metadata": {},
   "source": [
    "So now we can try and make our table formatting code into a class, which will give it a nice logical structure and make it more user friendly!"
   ]
  },
  {
   "cell_type": "code",
   "execution_count": null,
   "metadata": {
    "collapsed": true
   },
   "outputs": [],
   "source": [
    "class datatable():\n",
    "    def __init__(self, table, constants, thresholds):\n",
    "        self.table = np.genfromtxt('thermoproperties.csv', dtype=None, delimiter = \",\")\n",
    "        self.constants = constants\n",
    "    \n",
    "    def index(self, val):\n",
    "        "
   ]
  }
 ],
 "metadata": {
  "kernelspec": {
   "display_name": "Python 3",
   "language": "python",
   "name": "python3"
  },
  "language_info": {
   "codemirror_mode": {
    "name": "ipython",
    "version": 3
   },
   "file_extension": ".py",
   "mimetype": "text/x-python",
   "name": "python",
   "nbconvert_exporter": "python",
   "pygments_lexer": "ipython3",
   "version": "3.4.3"
  },
  "latex_envs": {
   "bibliofile": "biblio.bib",
   "cite_by": "apalike",
   "current_citInitial": 1,
   "eqLabelWithNumbers": true,
   "eqNumInitial": 0
  }
 },
 "nbformat": 4,
 "nbformat_minor": 0
}
