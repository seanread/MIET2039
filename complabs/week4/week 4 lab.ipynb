{
 "cells": [
  {
   "cell_type": "markdown",
   "metadata": {},
   "source": [
    "## Week 4: Heat exchangers"
   ]
  },
  {
   "cell_type": "markdown",
   "metadata": {},
   "source": [
    "Greetings! welcome to week 4 of our python based heat transfer tutorials. This week we are looking at heat exchangers. Coming back to our simple example from last week:"
   ]
  },
  {
   "cell_type": "markdown",
   "metadata": {},
   "source": [
    "![Alt text](tuteq.png)"
   ]
  },
  {
   "cell_type": "markdown",
   "metadata": {},
   "source": [
    "So you'll remember we ended up with quite a group of functions set up for working with this problem, which can get quite messy. We had:\n",
    "\n",
    "- a function for finding the index of the item in the table\n",
    "- a function for calling a specific value for a given index\n",
    "- a function for interpolating values\n",
    "\n",
    "On top of this we had extra code to import the required dataset. Wouldn't it be nice if we could tie all of this together in one cohesive, easy to use package?\n",
    "\n",
    "Luckily for us, Python is what is known as an \"object oriented\" language. Basically what this means is that it enables us to group functions together in a \"class\". Objects can then be identified as a member of that class, thereby gaining access to its functions. A simple example is given below"
   ]
  },
  {
   "cell_type": "code",
   "execution_count": 9,
   "metadata": {
    "collapsed": false
   },
   "outputs": [
    {
     "name": "stdout",
     "output_type": "stream",
     "text": [
      "ducks say quack\n",
      "ducks eat worms\n"
     ]
    }
   ],
   "source": [
    "class ducks():\n",
    "    \"\"\"an example class about ducks\"\"\"\n",
    "    def __init__(self, food, words):\n",
    "        \"\"\"define what ducks have\"\"\"\n",
    "        self.food = food\n",
    "        self.words = words\n",
    "    def speak(self):\n",
    "        \"\"\"what do ducks say\"\"\"\n",
    "        print(\"ducks say \" + self.words)\n",
    "    def eat(self):\n",
    "        \"\"\"what do ducks eat\"\"\"\n",
    "        print(\"ducks eat \" + self.food)\n",
    "        \n",
    "ronald = ducks('worms', 'quack')\n",
    "ronald.speak()\n",
    "ronald.eat()"
   ]
  },
  {
   "cell_type": "markdown",
   "metadata": {},
   "source": [
    "Notice that we define first an __init__ class. __init__ functions define the data attributes specific to the class, in this case food and words. You can read more about __init__ functions [here](http://interactivepython.org/runestone/static/thinkcspy/ClassesBasics/UserDefinedClasses.html)"
   ]
  },
  {
   "cell_type": "markdown",
   "metadata": {},
   "source": [
    "So now we can try and make our table formatting code into a class, which will give it a nice logical structure and make it more user friendly."
   ]
  },
  {
   "cell_type": "code",
   "execution_count": 31,
   "metadata": {
    "collapsed": false
   },
   "outputs": [],
   "source": [
    "class datatable():\n",
    "    \"\"\"a class for retrieving information from tables\"\"\"\n",
    "    def __init__(self, table, thresholds, constants):\n",
    "        import numpy as np\n",
    "        self.table = np.genfromtxt('thermoproperties.csv', dtype=None, delimiter = \",\")\n",
    "        self.thresholds = thresholds\n",
    "        self.constants = constants\n",
    "    \n",
    "    def index(self, val):\n",
    "        \"\"\"return the index of the closest \"\"\"\n",
    "        cons = self.constants\n",
    "        i = 0\n",
    "        while val > self.thresholds[i]:\n",
    "            i = i+1\n",
    "        return round((val - cons[i][0])/cons[i][1] + cons[i][2])\n",
    "    \n",
    "    def lookuptab(self, val, var):\n",
    "        \n",
    "        import numpy as np\n",
    "        return float(self.table[self.index(val)][np.where(self.table == var.encode('utf-8'))[1][0]])\n",
    "    \n",
    "    def interpolate(self, px, v):\n",
    "        \n",
    "        import numpy as np\n",
    "        i = 3\n",
    "        while float(self.table[i,0]) <= px * 1000:\n",
    "            i=i+1\n",
    "        i2 = i\n",
    "        i1 = i-1\n",
    "        var = np.where(self.table == v.encode('utf-8'))[1][0]\n",
    "        return (px * 1000 - float(self.table[i1, 0]))/(float(self.table[i2, 0])-float(self.table[i1, 0]))*(float(self.table[i2, var])-float(self.table[i1, var])) + float(self.table[i1, var]) "
   ]
  },
  {
   "cell_type": "code",
   "execution_count": 35,
   "metadata": {
    "collapsed": false
   },
   "outputs": [
    {
     "data": {
      "text/plain": [
       "18"
      ]
     },
     "execution_count": 35,
     "metadata": {},
     "output_type": "execute_result"
    }
   ],
   "source": [
    "jock = datatable('thermoproperties.csv', [0.36, 1, 3], \n",
    "                              [[0.08, 0.02, 4], \n",
    "                               [0.4, 0.1, 19],\n",
    "                               [1, 0.2, 25]])\n",
    "jock.index(0.36)"
   ]
  }
 ],
 "metadata": {
  "kernelspec": {
   "display_name": "Python 3",
   "language": "python",
   "name": "python3"
  },
  "language_info": {
   "codemirror_mode": {
    "name": "ipython",
    "version": 3
   },
   "file_extension": ".py",
   "mimetype": "text/x-python",
   "name": "python",
   "nbconvert_exporter": "python",
   "pygments_lexer": "ipython3",
   "version": "3.4.3"
  },
  "latex_envs": {
   "bibliofile": "biblio.bib",
   "cite_by": "apalike",
   "current_citInitial": 1,
   "eqLabelWithNumbers": true,
   "eqNumInitial": 0
  }
 },
 "nbformat": 4,
 "nbformat_minor": 0
}
