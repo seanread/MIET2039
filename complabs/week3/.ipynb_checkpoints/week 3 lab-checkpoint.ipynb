{
 "cells": [
  {
   "cell_type": "markdown",
   "metadata": {
    "collapsed": true
   },
   "source": [
    "# Week 3: Boiling and Condensation\n",
    "\n",
    "Hi! Welcome to the third week of our python based heat and mass transfer tutorials. This week we'll be looking at condensors, starting with the following problem from the tutorials:"
   ]
  },
  {
   "cell_type": "markdown",
   "metadata": {},
   "source": [
    "![Alt text](tuteq.png)"
   ]
  },
  {
   "cell_type": "markdown",
   "metadata": {
    "collapsed": true
   },
   "source": [
    "We're going to use our table lookup function from last week for this task. We've included a generalised version using while loops below for your convenience. You'll notice that we've included some except, assert and raise terms in this example. These are for helping with debugging, and beyond the scope of this course, but if you are interested you can read more here."
   ]
  },
  {
   "cell_type": "code",
   "execution_count": 2,
   "metadata": {
    "collapsed": true
   },
   "outputs": [],
   "source": [
    "def getindex(thresholds, cons, value):\n",
    "    assert (len(thresholds) == len(cons)), \"wrong number of functions\"  # this line is just for catching errors in your input\n",
    "    i = 0\n",
    "    \n",
    "    try:\n",
    "        while value > thresholds[i]:\n",
    "            i = i+1\n",
    "    except IndexError:\n",
    "        raise ValueError('your value\\'s off the charts!')\n",
    "    else:\n",
    "        return round((value - cons[i][0])/cons[i][1] + cons[i][2])\n",
    "\n",
    "def lookuptab(table, index, variable):\n",
    "    return float(table[index][np.where(table == variable.encode('utf-8'))[1][0]])\n"
   ]
  },
  {
   "cell_type": "markdown",
   "metadata": {},
   "source": [
    "So, for example, if we wanted to use this with the data from last week:"
   ]
  },
  {
   "cell_type": "code",
   "execution_count": 3,
   "metadata": {
    "collapsed": false
   },
   "outputs": [
    {
     "data": {
      "text/plain": [
       "239.2"
      ]
     },
     "execution_count": 3,
     "metadata": {},
     "output_type": "execute_result"
    }
   ],
   "source": [
    "import numpy as np\n",
    "fridgetab = np.genfromtxt('thermoproperties.csv', dtype=None, delimiter = \",\")\n",
    "lookuptab(fridgetab, getindex([0.36, 1, 3], \n",
    "                              [[0.08, 0.02, 4], \n",
    "                               [0.4, 0.1, 19],\n",
    "                               [1, 0.2, 25]],\n",
    "                              0.14), 'hg')"
   ]
  },
  {
   "cell_type": "markdown",
   "metadata": {},
   "source": [
    "Use the same code, either your own or the example above, to solve the condensor problem above, using the attached table should now be trivial excercise, have a go below:"
   ]
  },
  {
   "cell_type": "code",
   "execution_count": null,
   "metadata": {
    "collapsed": false
   },
   "outputs": [],
   "source": []
  },
  {
   "cell_type": "markdown",
   "metadata": {},
   "source": [
    "So This is pretty easy. But what if, for example, instead of 25° C, we had 27? we would need to apply inetrpolation... We could use for example this algorithm, for $v_x$ at $P_x$ between $P_1$ and $P_2$:\n",
    "\n",
    "$ v_x = (p_x - p_1)/(p_2 - p_1) (v_2 - v_1) + v_1 $"
   ]
  },
  {
   "cell_type": "code",
   "execution_count": 22,
   "metadata": {
    "collapsed": false
   },
   "outputs": [
    {
     "data": {
      "text/plain": [
       "240.14999999999998"
      ]
     },
     "execution_count": 22,
     "metadata": {},
     "output_type": "execute_result"
    }
   ],
   "source": [
    "def interpolate(dat, px, v):\n",
    "    i = 3\n",
    "    while float(dat[i,0]) <= px * 1000:\n",
    "        i=i+1\n",
    "    i2 = i\n",
    "    i1 = i-1\n",
    "    var = np.where(dat == v.encode('utf-8'))[1][0]\n",
    "    return (px * 1000 - float(dat[i1, 0]))/(float(dat[i2, 0])-float(dat[i1, 0]))*(float(dat[i2, var])-float(dat[i1, var])) + float(dat[i1, var])\n",
    "\n",
    "interpolate(fridgetab, 0.15, 'hg')"
   ]
  },
  {
   "cell_type": "markdown",
   "metadata": {},
   "source": [
    "Now try and use the above function to solve the question from earlier, but now with p = ... and ..."
   ]
  }
 ],
 "metadata": {
  "kernelspec": {
   "display_name": "Python 3",
   "language": "python",
   "name": "python3"
  },
  "language_info": {
   "codemirror_mode": {
    "name": "ipython",
    "version": 3
   },
   "file_extension": ".py",
   "mimetype": "text/x-python",
   "name": "python",
   "nbconvert_exporter": "python",
   "pygments_lexer": "ipython3",
   "version": "3.4.3"
  },
  "latex_envs": {
   "bibliofile": "biblio.bib",
   "cite_by": "apalike",
   "current_citInitial": 1,
   "eqLabelWithNumbers": true,
   "eqNumInitial": 0
  }
 },
 "nbformat": 4,
 "nbformat_minor": 0
}
